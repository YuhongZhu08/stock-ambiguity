{
 "cells": [
  {
   "cell_type": "code",
   "execution_count": 1,
   "metadata": {},
   "outputs": [],
   "source": [
    "import numpy as np\n",
    "import pandas as pd\n",
    "from scipy.stats import norm\n",
    "import time\n",
    "import glob\n",
    "import os\n",
    "from datetime import datetime"
   ]
  },
  {
   "cell_type": "code",
   "execution_count": 2,
   "metadata": {},
   "outputs": [
    {
     "name": "stdout",
     "output_type": "stream",
     "text": [
      "E:\\\n"
     ]
    },
    {
     "data": {
      "text/plain": [
       "['/dailyfivemiustd20204.csv']"
      ]
     },
     "execution_count": 2,
     "metadata": {},
     "output_type": "execute_result"
    }
   ],
   "source": [
    "wdpath=r'E:/'\n",
    "os.chdir(wdpath)\n",
    "print(os.getcwd())\n",
    "filelist1=glob.glob(r'/dailyfivemiustd*.csv')\n",
    "filelist1"
   ]
  },
  {
   "cell_type": "code",
   "execution_count": 3,
   "metadata": {},
   "outputs": [
    {
     "name": "stdout",
     "output_type": "stream",
     "text": [
      "20\n"
     ]
    }
   ],
   "source": [
    "ab=pd.DataFrame()\n",
    "for i in range(len(filelist1)):   # Numba likes loops\n",
    "        df = pd.read_csv(filelist1[i]) \n",
    "        ab=ab.append(df)\n",
    "print(len(ab))"
   ]
  },
  {
   "cell_type": "code",
   "execution_count": 4,
   "metadata": {},
   "outputs": [
    {
     "data": {
      "text/html": [
       "<div>\n",
       "<style scoped>\n",
       "    .dataframe tbody tr th:only-of-type {\n",
       "        vertical-align: middle;\n",
       "    }\n",
       "\n",
       "    .dataframe tbody tr th {\n",
       "        vertical-align: top;\n",
       "    }\n",
       "\n",
       "    .dataframe thead th {\n",
       "        text-align: right;\n",
       "    }\n",
       "</style>\n",
       "<table border=\"1\" class=\"dataframe\">\n",
       "  <thead>\n",
       "    <tr style=\"text-align: right;\">\n",
       "      <th></th>\n",
       "      <th>time</th>\n",
       "      <th>exstock</th>\n",
       "      <th>fivemiu</th>\n",
       "      <th>fivestd</th>\n",
       "      <th>countobs</th>\n",
       "      <th>ym</th>\n",
       "      <th>ymd</th>\n",
       "    </tr>\n",
       "  </thead>\n",
       "  <tbody>\n",
       "    <tr>\n",
       "      <th>15</th>\n",
       "      <td>2020-12-16 09:34:57</td>\n",
       "      <td>SH000906</td>\n",
       "      <td>-0.000031</td>\n",
       "      <td>0.000908</td>\n",
       "      <td>48</td>\n",
       "      <td>202012</td>\n",
       "      <td>20201216</td>\n",
       "    </tr>\n",
       "    <tr>\n",
       "      <th>16</th>\n",
       "      <td>2020-12-17 09:34:57</td>\n",
       "      <td>SH000906</td>\n",
       "      <td>0.000246</td>\n",
       "      <td>0.001071</td>\n",
       "      <td>48</td>\n",
       "      <td>202012</td>\n",
       "      <td>20201217</td>\n",
       "    </tr>\n",
       "    <tr>\n",
       "      <th>17</th>\n",
       "      <td>2020-12-18 09:34:59</td>\n",
       "      <td>SH000906</td>\n",
       "      <td>-0.000064</td>\n",
       "      <td>0.000988</td>\n",
       "      <td>48</td>\n",
       "      <td>202012</td>\n",
       "      <td>20201218</td>\n",
       "    </tr>\n",
       "    <tr>\n",
       "      <th>18</th>\n",
       "      <td>2020-12-21 09:34:58</td>\n",
       "      <td>SH000906</td>\n",
       "      <td>0.000239</td>\n",
       "      <td>0.001129</td>\n",
       "      <td>48</td>\n",
       "      <td>202012</td>\n",
       "      <td>20201221</td>\n",
       "    </tr>\n",
       "    <tr>\n",
       "      <th>19</th>\n",
       "      <td>2020-12-22 09:35:00</td>\n",
       "      <td>SH000906</td>\n",
       "      <td>-0.000302</td>\n",
       "      <td>0.001224</td>\n",
       "      <td>48</td>\n",
       "      <td>202012</td>\n",
       "      <td>20201222</td>\n",
       "    </tr>\n",
       "  </tbody>\n",
       "</table>\n",
       "</div>"
      ],
      "text/plain": [
       "                   time   exstock   fivemiu   fivestd  countobs      ym  \\\n",
       "15  2020-12-16 09:34:57  SH000906 -0.000031  0.000908        48  202012   \n",
       "16  2020-12-17 09:34:57  SH000906  0.000246  0.001071        48  202012   \n",
       "17  2020-12-18 09:34:59  SH000906 -0.000064  0.000988        48  202012   \n",
       "18  2020-12-21 09:34:58  SH000906  0.000239  0.001129        48  202012   \n",
       "19  2020-12-22 09:35:00  SH000906 -0.000302  0.001224        48  202012   \n",
       "\n",
       "         ymd  \n",
       "15  20201216  \n",
       "16  20201217  \n",
       "17  20201218  \n",
       "18  20201221  \n",
       "19  20201222  "
      ]
     },
     "execution_count": 4,
     "metadata": {},
     "output_type": "execute_result"
    }
   ],
   "source": [
    "ab.tail()"
   ]
  },
  {
   "cell_type": "code",
   "execution_count": 5,
   "metadata": {},
   "outputs": [],
   "source": [
    "ab[\"miumiu\"]=ab[\"fivemiu\"]*ab[\"countobs\"]"
   ]
  },
  {
   "cell_type": "code",
   "execution_count": 6,
   "metadata": {},
   "outputs": [
    {
     "data": {
      "text/html": [
       "<div>\n",
       "<style scoped>\n",
       "    .dataframe tbody tr th:only-of-type {\n",
       "        vertical-align: middle;\n",
       "    }\n",
       "\n",
       "    .dataframe tbody tr th {\n",
       "        vertical-align: top;\n",
       "    }\n",
       "\n",
       "    .dataframe thead th {\n",
       "        text-align: right;\n",
       "    }\n",
       "</style>\n",
       "<table border=\"1\" class=\"dataframe\">\n",
       "  <thead>\n",
       "    <tr style=\"text-align: right;\">\n",
       "      <th></th>\n",
       "      <th>time</th>\n",
       "      <th>exstock</th>\n",
       "      <th>fivemiu</th>\n",
       "      <th>fivestd</th>\n",
       "      <th>countobs</th>\n",
       "      <th>ym</th>\n",
       "      <th>ymd</th>\n",
       "      <th>miumiu</th>\n",
       "    </tr>\n",
       "  </thead>\n",
       "  <tbody>\n",
       "    <tr>\n",
       "      <th>4</th>\n",
       "      <td>2020-12-01 09:34:58</td>\n",
       "      <td>SH000906</td>\n",
       "      <td>0.000412</td>\n",
       "      <td>0.000979</td>\n",
       "      <td>48</td>\n",
       "      <td>202012</td>\n",
       "      <td>20201201</td>\n",
       "      <td>0.019772</td>\n",
       "    </tr>\n",
       "    <tr>\n",
       "      <th>16</th>\n",
       "      <td>2020-12-17 09:34:57</td>\n",
       "      <td>SH000906</td>\n",
       "      <td>0.000246</td>\n",
       "      <td>0.001071</td>\n",
       "      <td>48</td>\n",
       "      <td>202012</td>\n",
       "      <td>20201217</td>\n",
       "      <td>0.011828</td>\n",
       "    </tr>\n",
       "    <tr>\n",
       "      <th>18</th>\n",
       "      <td>2020-12-21 09:34:58</td>\n",
       "      <td>SH000906</td>\n",
       "      <td>0.000239</td>\n",
       "      <td>0.001129</td>\n",
       "      <td>48</td>\n",
       "      <td>202012</td>\n",
       "      <td>20201221</td>\n",
       "      <td>0.011459</td>\n",
       "    </tr>\n",
       "    <tr>\n",
       "      <th>2</th>\n",
       "      <td>2020-11-27 09:35:00</td>\n",
       "      <td>SH000906</td>\n",
       "      <td>0.000166</td>\n",
       "      <td>0.000975</td>\n",
       "      <td>48</td>\n",
       "      <td>202011</td>\n",
       "      <td>20201127</td>\n",
       "      <td>0.007961</td>\n",
       "    </tr>\n",
       "    <tr>\n",
       "      <th>13</th>\n",
       "      <td>2020-12-14 09:34:57</td>\n",
       "      <td>SH000906</td>\n",
       "      <td>0.000152</td>\n",
       "      <td>0.000969</td>\n",
       "      <td>48</td>\n",
       "      <td>202012</td>\n",
       "      <td>20201214</td>\n",
       "      <td>0.007284</td>\n",
       "    </tr>\n",
       "  </tbody>\n",
       "</table>\n",
       "</div>"
      ],
      "text/plain": [
       "                   time   exstock   fivemiu   fivestd  countobs      ym  \\\n",
       "4   2020-12-01 09:34:58  SH000906  0.000412  0.000979        48  202012   \n",
       "16  2020-12-17 09:34:57  SH000906  0.000246  0.001071        48  202012   \n",
       "18  2020-12-21 09:34:58  SH000906  0.000239  0.001129        48  202012   \n",
       "2   2020-11-27 09:35:00  SH000906  0.000166  0.000975        48  202011   \n",
       "13  2020-12-14 09:34:57  SH000906  0.000152  0.000969        48  202012   \n",
       "\n",
       "         ymd    miumiu  \n",
       "4   20201201  0.019772  \n",
       "16  20201217  0.011828  \n",
       "18  20201221  0.011459  \n",
       "2   20201127  0.007961  \n",
       "13  20201214  0.007284  "
      ]
     },
     "execution_count": 6,
     "metadata": {},
     "output_type": "execute_result"
    }
   ],
   "source": [
    "ab.sort_values(by=[\"miumiu\"],ascending=False).head()"
   ]
  },
  {
   "cell_type": "code",
   "execution_count": 7,
   "metadata": {},
   "outputs": [
    {
     "data": {
      "text/html": [
       "<div>\n",
       "<style scoped>\n",
       "    .dataframe tbody tr th:only-of-type {\n",
       "        vertical-align: middle;\n",
       "    }\n",
       "\n",
       "    .dataframe tbody tr th {\n",
       "        vertical-align: top;\n",
       "    }\n",
       "\n",
       "    .dataframe thead th {\n",
       "        text-align: right;\n",
       "    }\n",
       "</style>\n",
       "<table border=\"1\" class=\"dataframe\">\n",
       "  <thead>\n",
       "    <tr style=\"text-align: right;\">\n",
       "      <th></th>\n",
       "      <th>time</th>\n",
       "      <th>exstock</th>\n",
       "      <th>fivemiu</th>\n",
       "      <th>fivestd</th>\n",
       "      <th>countobs</th>\n",
       "      <th>ym</th>\n",
       "      <th>ymd</th>\n",
       "      <th>miumiu</th>\n",
       "    </tr>\n",
       "  </thead>\n",
       "  <tbody>\n",
       "    <tr>\n",
       "      <th>0</th>\n",
       "      <td>2020-11-25 09:34:58</td>\n",
       "      <td>SH000906</td>\n",
       "      <td>-0.000355</td>\n",
       "      <td>0.001070</td>\n",
       "      <td>48</td>\n",
       "      <td>202011</td>\n",
       "      <td>20201125</td>\n",
       "      <td>-0.017030</td>\n",
       "    </tr>\n",
       "    <tr>\n",
       "      <th>10</th>\n",
       "      <td>2020-12-09 09:34:58</td>\n",
       "      <td>SH000906</td>\n",
       "      <td>-0.000345</td>\n",
       "      <td>0.001032</td>\n",
       "      <td>48</td>\n",
       "      <td>202012</td>\n",
       "      <td>20201209</td>\n",
       "      <td>-0.016552</td>\n",
       "    </tr>\n",
       "    <tr>\n",
       "      <th>12</th>\n",
       "      <td>2020-12-11 09:34:56</td>\n",
       "      <td>SH000906</td>\n",
       "      <td>-0.000316</td>\n",
       "      <td>0.001489</td>\n",
       "      <td>48</td>\n",
       "      <td>202012</td>\n",
       "      <td>20201211</td>\n",
       "      <td>-0.015150</td>\n",
       "    </tr>\n",
       "    <tr>\n",
       "      <th>19</th>\n",
       "      <td>2020-12-22 09:35:00</td>\n",
       "      <td>SH000906</td>\n",
       "      <td>-0.000302</td>\n",
       "      <td>0.001224</td>\n",
       "      <td>48</td>\n",
       "      <td>202012</td>\n",
       "      <td>20201222</td>\n",
       "      <td>-0.014489</td>\n",
       "    </tr>\n",
       "    <tr>\n",
       "      <th>8</th>\n",
       "      <td>2020-12-07 09:34:58</td>\n",
       "      <td>SH000906</td>\n",
       "      <td>-0.000169</td>\n",
       "      <td>0.001146</td>\n",
       "      <td>48</td>\n",
       "      <td>202012</td>\n",
       "      <td>20201207</td>\n",
       "      <td>-0.008129</td>\n",
       "    </tr>\n",
       "  </tbody>\n",
       "</table>\n",
       "</div>"
      ],
      "text/plain": [
       "                   time   exstock   fivemiu   fivestd  countobs      ym  \\\n",
       "0   2020-11-25 09:34:58  SH000906 -0.000355  0.001070        48  202011   \n",
       "10  2020-12-09 09:34:58  SH000906 -0.000345  0.001032        48  202012   \n",
       "12  2020-12-11 09:34:56  SH000906 -0.000316  0.001489        48  202012   \n",
       "19  2020-12-22 09:35:00  SH000906 -0.000302  0.001224        48  202012   \n",
       "8   2020-12-07 09:34:58  SH000906 -0.000169  0.001146        48  202012   \n",
       "\n",
       "         ymd    miumiu  \n",
       "0   20201125 -0.017030  \n",
       "10  20201209 -0.016552  \n",
       "12  20201211 -0.015150  \n",
       "19  20201222 -0.014489  \n",
       "8   20201207 -0.008129  "
      ]
     },
     "execution_count": 7,
     "metadata": {},
     "output_type": "execute_result"
    }
   ],
   "source": [
    "ab.sort_values(by=[\"miumiu\"],ascending=True).head()"
   ]
  },
  {
   "cell_type": "code",
   "execution_count": 8,
   "metadata": {},
   "outputs": [
    {
     "name": "stdout",
     "output_type": "stream",
     "text": [
      "20\n"
     ]
    }
   ],
   "source": [
    "#print(df.size)\n",
    "dataraw1=ab.copy()\n",
    "dataraw1=dataraw1.reset_index(drop=True)\n",
    "index = dataraw1.loc[(dataraw1['fivestd']==0)].index\n",
    "print(len(dataraw1))"
   ]
  },
  {
   "cell_type": "code",
   "execution_count": 9,
   "metadata": {},
   "outputs": [
    {
     "name": "stdout",
     "output_type": "stream",
     "text": [
      "20\n",
      "20\n"
     ]
    },
    {
     "data": {
      "text/html": [
       "<div>\n",
       "<style scoped>\n",
       "    .dataframe tbody tr th:only-of-type {\n",
       "        vertical-align: middle;\n",
       "    }\n",
       "\n",
       "    .dataframe tbody tr th {\n",
       "        vertical-align: top;\n",
       "    }\n",
       "\n",
       "    .dataframe thead th {\n",
       "        text-align: right;\n",
       "    }\n",
       "</style>\n",
       "<table border=\"1\" class=\"dataframe\">\n",
       "  <thead>\n",
       "    <tr style=\"text-align: right;\">\n",
       "      <th></th>\n",
       "      <th>time</th>\n",
       "      <th>exstock</th>\n",
       "      <th>fivemiu</th>\n",
       "      <th>fivestd</th>\n",
       "      <th>countobs</th>\n",
       "      <th>ym</th>\n",
       "      <th>ymd</th>\n",
       "      <th>miumiu</th>\n",
       "    </tr>\n",
       "  </thead>\n",
       "  <tbody>\n",
       "    <tr>\n",
       "      <th>0</th>\n",
       "      <td>2020-11-25 09:34:58</td>\n",
       "      <td>SH000906</td>\n",
       "      <td>-0.000355</td>\n",
       "      <td>0.001070</td>\n",
       "      <td>48</td>\n",
       "      <td>202011</td>\n",
       "      <td>20201125</td>\n",
       "      <td>-0.017030</td>\n",
       "    </tr>\n",
       "    <tr>\n",
       "      <th>1</th>\n",
       "      <td>2020-11-26 09:34:57</td>\n",
       "      <td>SH000906</td>\n",
       "      <td>0.000027</td>\n",
       "      <td>0.001157</td>\n",
       "      <td>48</td>\n",
       "      <td>202011</td>\n",
       "      <td>20201126</td>\n",
       "      <td>0.001273</td>\n",
       "    </tr>\n",
       "    <tr>\n",
       "      <th>2</th>\n",
       "      <td>2020-11-27 09:35:00</td>\n",
       "      <td>SH000906</td>\n",
       "      <td>0.000166</td>\n",
       "      <td>0.000975</td>\n",
       "      <td>48</td>\n",
       "      <td>202011</td>\n",
       "      <td>20201127</td>\n",
       "      <td>0.007961</td>\n",
       "    </tr>\n",
       "    <tr>\n",
       "      <th>3</th>\n",
       "      <td>2020-11-30 09:34:56</td>\n",
       "      <td>SH000906</td>\n",
       "      <td>-0.000098</td>\n",
       "      <td>0.001418</td>\n",
       "      <td>48</td>\n",
       "      <td>202011</td>\n",
       "      <td>20201130</td>\n",
       "      <td>-0.004694</td>\n",
       "    </tr>\n",
       "    <tr>\n",
       "      <th>4</th>\n",
       "      <td>2020-12-01 09:34:58</td>\n",
       "      <td>SH000906</td>\n",
       "      <td>0.000412</td>\n",
       "      <td>0.000979</td>\n",
       "      <td>48</td>\n",
       "      <td>202012</td>\n",
       "      <td>20201201</td>\n",
       "      <td>0.019772</td>\n",
       "    </tr>\n",
       "  </tbody>\n",
       "</table>\n",
       "</div>"
      ],
      "text/plain": [
       "                  time   exstock   fivemiu   fivestd  countobs      ym  \\\n",
       "0  2020-11-25 09:34:58  SH000906 -0.000355  0.001070        48  202011   \n",
       "1  2020-11-26 09:34:57  SH000906  0.000027  0.001157        48  202011   \n",
       "2  2020-11-27 09:35:00  SH000906  0.000166  0.000975        48  202011   \n",
       "3  2020-11-30 09:34:56  SH000906 -0.000098  0.001418        48  202011   \n",
       "4  2020-12-01 09:34:58  SH000906  0.000412  0.000979        48  202012   \n",
       "\n",
       "        ymd    miumiu  \n",
       "0  20201125 -0.017030  \n",
       "1  20201126  0.001273  \n",
       "2  20201127  0.007961  \n",
       "3  20201130 -0.004694  \n",
       "4  20201201  0.019772  "
      ]
     },
     "execution_count": 9,
     "metadata": {},
     "output_type": "execute_result"
    }
   ],
   "source": [
    "dataraw=dataraw1[~(dataraw1['fivestd']==0)]\n",
    "#dataraw=dataraw1.drop(index)\n",
    "print(len(dataraw))\n",
    "dataraw = dataraw[(dataraw['countobs']>14)]\n",
    "dataraw.dropna(axis=0, how=\"any\",inplace=True)\n",
    "print(len(dataraw))\n",
    "dataraw.head()"
   ]
  },
  {
   "cell_type": "code",
   "execution_count": 10,
   "metadata": {},
   "outputs": [],
   "source": [
    "def month1(hang):\n",
    "    return hang['exstock'][2:8]\n",
    "dataraw['stkcd']=dataraw.apply(month1,axis=1)"
   ]
  },
  {
   "cell_type": "code",
   "execution_count": 11,
   "metadata": {},
   "outputs": [],
   "source": [
    "data=dataraw.sort_values(by=['ymd','stkcd'])"
   ]
  },
  {
   "cell_type": "code",
   "execution_count": 12,
   "metadata": {},
   "outputs": [],
   "source": [
    "data.to_csv(r'E:/all - fivedataall.csv')"
   ]
  },
  {
   "cell_type": "code",
   "execution_count": null,
   "metadata": {},
   "outputs": [],
   "source": []
  }
 ],
 "metadata": {
  "kernelspec": {
   "display_name": "Python 3",
   "language": "python",
   "name": "python3"
  },
  "language_info": {
   "codemirror_mode": {
    "name": "ipython",
    "version": 3
   },
   "file_extension": ".py",
   "mimetype": "text/x-python",
   "name": "python",
   "nbconvert_exporter": "python",
   "pygments_lexer": "ipython3",
   "version": "3.7.3"
  }
 },
 "nbformat": 4,
 "nbformat_minor": 2
}
